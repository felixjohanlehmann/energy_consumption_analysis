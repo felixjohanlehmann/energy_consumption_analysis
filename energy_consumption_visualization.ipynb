{
 "cells": [
  {
   "cell_type": "markdown",
   "metadata": {},
   "source": [
    "# Energy consumption"
   ]
  },
  {
   "cell_type": "markdown",
   "metadata": {},
   "source": [
    "## Import data from .xls spreadsheet"
   ]
  },
  {
   "cell_type": "code",
   "execution_count": 2,
   "metadata": {},
   "outputs": [],
   "source": [
    "# https://www.datacamp.com/community/tutorials/python-excel-tutorial\n",
    "\n",
    "import pandas as pd\n",
    "\n",
    "file = 'energy_consumption.xlsx'\n",
    "\n",
    "xl = pd.ExcelFile(file)\n",
    "\n",
    "df = xl.parse('Tabelle1')\n",
    "\n",
    "#Alternative way to load a sheet into a dataframe\n",
    "#df = pd.read_excel(xl, 'Tabelle1')"
   ]
  },
  {
   "cell_type": "code",
   "execution_count": 3,
   "metadata": {},
   "outputs": [
    {
     "name": "stdout",
     "output_type": "stream",
     "text": [
      "          5010116009  5010115909  5010115709  5010116109  5010115609  \\\n",
      "date                                                                   \n",
      "20180901       44107       41201       14946       24385       15849   \n",
      "20181001       44395       41494       15074       24526       15966   \n",
      "20181101       44715       41814       15196       24691       16106   \n",
      "20181201       45058       42136       15350       24837       16244   \n",
      "\n",
      "          5010116209  5010115809  5010115509  5010114009  5010114209  \n",
      "date                                                                  \n",
      "20180901       17370       16918       24301       40200        8506  \n",
      "20181001       17531       17052       24482       40713        8580  \n",
      "20181101       17702       17197       24691       41361        8661  \n",
      "20181201       17878       17436       24906       42000        8743  \n"
     ]
    }
   ],
   "source": [
    "#Pandas introduction: https://www.datacamp.com/community/tutorials/pandas-tutorial-dataframe-python\n",
    "#Pandas cheat sheet: https://s3.amazonaws.com/assets.datacamp.com/blog_assets/PandasPythonForDataScience.pdf\n",
    "\n",
    "df.set_index('date', inplace=True)\n",
    "print(df)"
   ]
  },
  {
   "cell_type": "code",
   "execution_count": 8,
   "metadata": {},
   "outputs": [
    {
     "data": {
      "text/html": [
       "<div>\n",
       "<style scoped>\n",
       "    .dataframe tbody tr th:only-of-type {\n",
       "        vertical-align: middle;\n",
       "    }\n",
       "\n",
       "    .dataframe tbody tr th {\n",
       "        vertical-align: top;\n",
       "    }\n",
       "\n",
       "    .dataframe thead th {\n",
       "        text-align: right;\n",
       "    }\n",
       "</style>\n",
       "<table border=\"1\" class=\"dataframe\">\n",
       "  <thead>\n",
       "    <tr style=\"text-align: right;\">\n",
       "      <th></th>\n",
       "      <th>5010116009</th>\n",
       "      <th>5010115909</th>\n",
       "      <th>5010115709</th>\n",
       "      <th>5010116109</th>\n",
       "      <th>5010115609</th>\n",
       "      <th>5010116209</th>\n",
       "      <th>5010115809</th>\n",
       "      <th>5010115509</th>\n",
       "      <th>5010114009</th>\n",
       "      <th>5010114209</th>\n",
       "    </tr>\n",
       "    <tr>\n",
       "      <th>date</th>\n",
       "      <th></th>\n",
       "      <th></th>\n",
       "      <th></th>\n",
       "      <th></th>\n",
       "      <th></th>\n",
       "      <th></th>\n",
       "      <th></th>\n",
       "      <th></th>\n",
       "      <th></th>\n",
       "      <th></th>\n",
       "    </tr>\n",
       "  </thead>\n",
       "  <tbody>\n",
       "    <tr>\n",
       "      <th>20180901</th>\n",
       "      <td>NaN</td>\n",
       "      <td>NaN</td>\n",
       "      <td>NaN</td>\n",
       "      <td>NaN</td>\n",
       "      <td>NaN</td>\n",
       "      <td>NaN</td>\n",
       "      <td>NaN</td>\n",
       "      <td>NaN</td>\n",
       "      <td>NaN</td>\n",
       "      <td>NaN</td>\n",
       "    </tr>\n",
       "    <tr>\n",
       "      <th>20181001</th>\n",
       "      <td>288.0</td>\n",
       "      <td>293.0</td>\n",
       "      <td>128.0</td>\n",
       "      <td>141.0</td>\n",
       "      <td>117.0</td>\n",
       "      <td>161.0</td>\n",
       "      <td>134.0</td>\n",
       "      <td>181.0</td>\n",
       "      <td>513.0</td>\n",
       "      <td>74.0</td>\n",
       "    </tr>\n",
       "    <tr>\n",
       "      <th>20181101</th>\n",
       "      <td>320.0</td>\n",
       "      <td>320.0</td>\n",
       "      <td>122.0</td>\n",
       "      <td>165.0</td>\n",
       "      <td>140.0</td>\n",
       "      <td>171.0</td>\n",
       "      <td>145.0</td>\n",
       "      <td>209.0</td>\n",
       "      <td>648.0</td>\n",
       "      <td>81.0</td>\n",
       "    </tr>\n",
       "    <tr>\n",
       "      <th>20181201</th>\n",
       "      <td>343.0</td>\n",
       "      <td>322.0</td>\n",
       "      <td>154.0</td>\n",
       "      <td>146.0</td>\n",
       "      <td>138.0</td>\n",
       "      <td>176.0</td>\n",
       "      <td>239.0</td>\n",
       "      <td>215.0</td>\n",
       "      <td>639.0</td>\n",
       "      <td>82.0</td>\n",
       "    </tr>\n",
       "  </tbody>\n",
       "</table>\n",
       "</div>"
      ],
      "text/plain": [
       "          5010116009  5010115909  5010115709  5010116109  5010115609  \\\n",
       "date                                                                   \n",
       "20180901         NaN         NaN         NaN         NaN         NaN   \n",
       "20181001       288.0       293.0       128.0       141.0       117.0   \n",
       "20181101       320.0       320.0       122.0       165.0       140.0   \n",
       "20181201       343.0       322.0       154.0       146.0       138.0   \n",
       "\n",
       "          5010116209  5010115809  5010115509  5010114009  5010114209  \n",
       "date                                                                  \n",
       "20180901         NaN         NaN         NaN         NaN         NaN  \n",
       "20181001       161.0       134.0       181.0       513.0        74.0  \n",
       "20181101       171.0       145.0       209.0       648.0        81.0  \n",
       "20181201       176.0       239.0       215.0       639.0        82.0  "
      ]
     },
     "execution_count": 8,
     "metadata": {},
     "output_type": "execute_result"
    }
   ],
   "source": [
    "df.diff()"
   ]
  },
  {
   "cell_type": "code",
   "execution_count": 9,
   "metadata": {},
   "outputs": [],
   "source": [
    "import matplotlib.pyplot as plt\n",
    "from matplotlib import style\n",
    "#style.use('fivethirtyeight')\n",
    "style.use('ggplot')"
   ]
  },
  {
   "cell_type": "code",
   "execution_count": 10,
   "metadata": {},
   "outputs": [
    {
     "data": {
      "image/png": "[encoded data removed]",
      "text/plain": [
       "<Figure size 432x288 with 1 Axes>"
      ]
     },
     "metadata": {},
     "output_type": "display_data"
    }
   ],
   "source": [
    "df2 = df.diff()\n",
    "df2.plot()\n",
    "plt.show()"
   ]
  },
  {
   "cell_type": "code",
   "execution_count": 11,
   "metadata": {},
   "outputs": [
    {
     "name": "stdout",
     "output_type": "stream",
     "text": [
      "[288, 293, 128, 141, 117, 161, 134, 181, 513, 74]\n"
     ]
    }
   ],
   "source": [
    "consumption = []\n",
    "\n",
    "for i in df.columns:\n",
    "    consumption.append(df.loc[20181001, i] - df.loc[20180901, i])\n",
    "    \n",
    "print(consumption)"
   ]
  },
  {
   "cell_type": "code",
   "execution_count": 12,
   "metadata": {},
   "outputs": [
    {
     "data": {
      "image/png": "[encoded data removed]",
      "text/plain": [
       "<Figure size 432x288 with 1 Axes>"
      ]
     },
     "metadata": {},
     "output_type": "display_data"
    }
   ],
   "source": [
    "df.plot()\n",
    "plt.show()"
   ]
  },
  {
   "cell_type": "markdown",
   "metadata": {},
   "source": [
    "## Monthly energy consumption per party and total"
   ]
  },
  {
   "cell_type": "markdown",
   "metadata": {},
   "source": [
    "### single bar chart:"
   ]
  },
  {
   "cell_type": "code",
   "execution_count": null,
   "metadata": {},
   "outputs": [],
   "source": []
  },
  {
   "cell_type": "markdown",
   "metadata": {},
   "source": [
    "### 3D bar chart:"
   ]
  },
  {
   "cell_type": "code",
   "execution_count": null,
   "metadata": {},
   "outputs": [],
   "source": []
  },
  {
   "cell_type": "markdown",
   "metadata": {},
   "source": [
    "## Monthly energy consumption per person"
   ]
  },
  {
   "cell_type": "code",
   "execution_count": null,
   "metadata": {},
   "outputs": [],
   "source": []
  },
  {
   "cell_type": "markdown",
   "metadata": {},
   "source": [
    "## Yearly energy consumption per party and total"
   ]
  },
  {
   "cell_type": "code",
   "execution_count": null,
   "metadata": {},
   "outputs": [],
   "source": []
  },
  {
   "cell_type": "markdown",
   "metadata": {},
   "source": [
    "## Summer vs winter months"
   ]
  },
  {
   "cell_type": "code",
   "execution_count": null,
   "metadata": {},
   "outputs": [],
   "source": []
  },
  {
   "cell_type": "markdown",
   "metadata": {},
   "source": [
    "## Month with highest/lowest consumption"
   ]
  },
  {
   "cell_type": "code",
   "execution_count": null,
   "metadata": {},
   "outputs": [],
   "source": []
  },
  {
   "cell_type": "code",
   "execution_count": null,
   "metadata": {},
   "outputs": [],
   "source": []
  }
 ],
 "metadata": {
  "kernelspec": {
   "display_name": "Python 3",
   "language": "python",
   "name": "python3"
  },
  "language_info": {
   "codemirror_mode": {
    "name": "ipython",
    "version": 3
   },
   "file_extension": ".py",
   "mimetype": "text/x-python",
   "name": "python",
   "nbconvert_exporter": "python",
   "pygments_lexer": "ipython3",
   "version": "3.6.5"
  }
 },
 "nbformat": 4,
 "nbformat_minor": 2
}
