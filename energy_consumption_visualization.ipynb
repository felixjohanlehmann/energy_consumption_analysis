{
 "cells": [
  {
   "cell_type": "markdown",
   "metadata": {},
   "source": [
    "# Energy consumption"
   ]
  },
  {
   "cell_type": "markdown",
   "metadata": {},
   "source": [
    "## Import data from .xlsx spreadsheet"
   ]
  },
  {
   "cell_type": "code",
   "execution_count": 1,
   "metadata": {},
   "outputs": [],
   "source": [
    "# https://www.datacamp.com/community/tutorials/python-excel-tutorial\n",
    "\n",
    "import pandas as pd\n",
    "\n",
    "file = 'energy_consumption.xlsx'\n",
    "\n",
    "xl = pd.ExcelFile(file)\n",
    "\n",
    "df = xl.parse('Tabelle1')\n",
    "\n",
    "#Alternative way to load a sheet into a dataframe\n",
    "#df = pd.read_excel(xl, 'Tabelle1')"
   ]
  },
  {
   "cell_type": "markdown",
   "metadata": {},
   "source": [
    "## Data inspection"
   ]
  },
  {
   "cell_type": "code",
   "execution_count": 2,
   "metadata": {},
   "outputs": [
    {
     "name": "stdout",
     "output_type": "stream",
     "text": [
      "              a      b      c      d      e      f      g      h      i     j\n",
      "date                                                                         \n",
      "20180901  44107  41201  14946  24385  15849  17370  16918  24301  40200  8506\n",
      "20181001  44395  41494  15074  24526  15966  17531  17052  24482  40713  8580\n",
      "20181101  44715  41814  15196  24691  16106  17702  17197  24691  41361  8661\n",
      "20181201  45058  42136  15350  24837  16244  17878  17346  24906  42000  8743\n",
      "20190101  45414  42473  15512  24990  16396  18027  17509  25152  42644  8828\n",
      "20190201  45818  42809  15662  25172  16556  18203  17644  25381  43333  8910\n",
      "20190301  46160  43114  15808  25342  16686  18365  17779  25583  43896  8984\n"
     ]
    }
   ],
   "source": [
    "#Pandas introduction: https://www.datacamp.com/community/tutorials/pandas-tutorial-dataframe-python\n",
    "#Pandas cheat sheet: https://s3.amazonaws.com/assets.datacamp.com/blog_assets/PandasPythonForDataScience.pdf\n",
    "\n",
    "df.set_index('date', inplace=True)\n",
    "print(df)"
   ]
  },
  {
   "cell_type": "code",
   "execution_count": 3,
   "metadata": {},
   "outputs": [
    {
     "name": "stdout",
     "output_type": "stream",
     "text": [
      "              a      b      c      d      e      f      g      h      i     j\n",
      "date                                                                         \n",
      "20181001  288.0  293.0  128.0  141.0  117.0  161.0  134.0  181.0  513.0  74.0\n",
      "20181101  320.0  320.0  122.0  165.0  140.0  171.0  145.0  209.0  648.0  81.0\n",
      "20181201  343.0  322.0  154.0  146.0  138.0  176.0  149.0  215.0  639.0  82.0\n",
      "20190101  356.0  337.0  162.0  153.0  152.0  149.0  163.0  246.0  644.0  85.0\n",
      "20190201  404.0  336.0  150.0  182.0  160.0  176.0  135.0  229.0  689.0  82.0\n",
      "20190301  342.0  305.0  146.0  170.0  130.0  162.0  135.0  202.0  563.0  74.0\n"
     ]
    }
   ],
   "source": [
    "df_diff = df.diff()\n",
    "df_diff = df_diff.iloc[1:]\n",
    "print(df_diff)"
   ]
  },
  {
   "cell_type": "code",
   "execution_count": 4,
   "metadata": {},
   "outputs": [
    {
     "data": {
      "text/html": [
       "<div>\n",
       "<style scoped>\n",
       "    .dataframe tbody tr th:only-of-type {\n",
       "        vertical-align: middle;\n",
       "    }\n",
       "\n",
       "    .dataframe tbody tr th {\n",
       "        vertical-align: top;\n",
       "    }\n",
       "\n",
       "    .dataframe thead th {\n",
       "        text-align: right;\n",
       "    }\n",
       "</style>\n",
       "<table border=\"1\" class=\"dataframe\">\n",
       "  <thead>\n",
       "    <tr style=\"text-align: right;\">\n",
       "      <th></th>\n",
       "      <th>a</th>\n",
       "      <th>b</th>\n",
       "      <th>c</th>\n",
       "      <th>d</th>\n",
       "      <th>e</th>\n",
       "      <th>f</th>\n",
       "      <th>g</th>\n",
       "      <th>h</th>\n",
       "      <th>i</th>\n",
       "      <th>j</th>\n",
       "    </tr>\n",
       "  </thead>\n",
       "  <tbody>\n",
       "    <tr>\n",
       "      <th>count</th>\n",
       "      <td>6.000000</td>\n",
       "      <td>6.000000</td>\n",
       "      <td>6.000000</td>\n",
       "      <td>6.000000</td>\n",
       "      <td>6.000000</td>\n",
       "      <td>6.000000</td>\n",
       "      <td>6.000000</td>\n",
       "      <td>6.000000</td>\n",
       "      <td>6.000000</td>\n",
       "      <td>6.000000</td>\n",
       "    </tr>\n",
       "    <tr>\n",
       "      <th>mean</th>\n",
       "      <td>342.166667</td>\n",
       "      <td>318.833333</td>\n",
       "      <td>143.666667</td>\n",
       "      <td>159.500000</td>\n",
       "      <td>139.500000</td>\n",
       "      <td>165.833333</td>\n",
       "      <td>143.500000</td>\n",
       "      <td>213.666667</td>\n",
       "      <td>616.000000</td>\n",
       "      <td>79.666667</td>\n",
       "    </tr>\n",
       "    <tr>\n",
       "      <th>std</th>\n",
       "      <td>38.576763</td>\n",
       "      <td>17.290653</td>\n",
       "      <td>15.513435</td>\n",
       "      <td>15.578832</td>\n",
       "      <td>15.332971</td>\n",
       "      <td>10.534072</td>\n",
       "      <td>11.379807</td>\n",
       "      <td>22.393451</td>\n",
       "      <td>64.936892</td>\n",
       "      <td>4.589844</td>\n",
       "    </tr>\n",
       "    <tr>\n",
       "      <th>min</th>\n",
       "      <td>288.000000</td>\n",
       "      <td>293.000000</td>\n",
       "      <td>122.000000</td>\n",
       "      <td>141.000000</td>\n",
       "      <td>117.000000</td>\n",
       "      <td>149.000000</td>\n",
       "      <td>134.000000</td>\n",
       "      <td>181.000000</td>\n",
       "      <td>513.000000</td>\n",
       "      <td>74.000000</td>\n",
       "    </tr>\n",
       "    <tr>\n",
       "      <th>25%</th>\n",
       "      <td>325.500000</td>\n",
       "      <td>308.750000</td>\n",
       "      <td>132.500000</td>\n",
       "      <td>147.750000</td>\n",
       "      <td>132.000000</td>\n",
       "      <td>161.250000</td>\n",
       "      <td>135.000000</td>\n",
       "      <td>203.750000</td>\n",
       "      <td>582.000000</td>\n",
       "      <td>75.750000</td>\n",
       "    </tr>\n",
       "    <tr>\n",
       "      <th>50%</th>\n",
       "      <td>342.500000</td>\n",
       "      <td>321.000000</td>\n",
       "      <td>148.000000</td>\n",
       "      <td>159.000000</td>\n",
       "      <td>139.000000</td>\n",
       "      <td>166.500000</td>\n",
       "      <td>140.000000</td>\n",
       "      <td>212.000000</td>\n",
       "      <td>641.500000</td>\n",
       "      <td>81.500000</td>\n",
       "    </tr>\n",
       "    <tr>\n",
       "      <th>75%</th>\n",
       "      <td>352.750000</td>\n",
       "      <td>332.500000</td>\n",
       "      <td>153.000000</td>\n",
       "      <td>168.750000</td>\n",
       "      <td>149.000000</td>\n",
       "      <td>174.750000</td>\n",
       "      <td>148.000000</td>\n",
       "      <td>225.500000</td>\n",
       "      <td>647.000000</td>\n",
       "      <td>82.000000</td>\n",
       "    </tr>\n",
       "    <tr>\n",
       "      <th>max</th>\n",
       "      <td>404.000000</td>\n",
       "      <td>337.000000</td>\n",
       "      <td>162.000000</td>\n",
       "      <td>182.000000</td>\n",
       "      <td>160.000000</td>\n",
       "      <td>176.000000</td>\n",
       "      <td>163.000000</td>\n",
       "      <td>246.000000</td>\n",
       "      <td>689.000000</td>\n",
       "      <td>85.000000</td>\n",
       "    </tr>\n",
       "  </tbody>\n",
       "</table>\n",
       "</div>"
      ],
      "text/plain": [
       "                a           b           c           d           e           f  \\\n",
       "count    6.000000    6.000000    6.000000    6.000000    6.000000    6.000000   \n",
       "mean   342.166667  318.833333  143.666667  159.500000  139.500000  165.833333   \n",
       "std     38.576763   17.290653   15.513435   15.578832   15.332971   10.534072   \n",
       "min    288.000000  293.000000  122.000000  141.000000  117.000000  149.000000   \n",
       "25%    325.500000  308.750000  132.500000  147.750000  132.000000  161.250000   \n",
       "50%    342.500000  321.000000  148.000000  159.000000  139.000000  166.500000   \n",
       "75%    352.750000  332.500000  153.000000  168.750000  149.000000  174.750000   \n",
       "max    404.000000  337.000000  162.000000  182.000000  160.000000  176.000000   \n",
       "\n",
       "                g           h           i          j  \n",
       "count    6.000000    6.000000    6.000000   6.000000  \n",
       "mean   143.500000  213.666667  616.000000  79.666667  \n",
       "std     11.379807   22.393451   64.936892   4.589844  \n",
       "min    134.000000  181.000000  513.000000  74.000000  \n",
       "25%    135.000000  203.750000  582.000000  75.750000  \n",
       "50%    140.000000  212.000000  641.500000  81.500000  \n",
       "75%    148.000000  225.500000  647.000000  82.000000  \n",
       "max    163.000000  246.000000  689.000000  85.000000  "
      ]
     },
     "execution_count": 4,
     "metadata": {},
     "output_type": "execute_result"
    }
   ],
   "source": [
    "df_diff.describe()"
   ]
  },
  {
   "cell_type": "markdown",
   "metadata": {},
   "source": [
    "## Visualization"
   ]
  },
  {
   "cell_type": "code",
   "execution_count": 5,
   "metadata": {},
   "outputs": [],
   "source": [
    "import matplotlib.pyplot as plt\n",
    "from matplotlib import style\n",
    "style.use('fivethirtyeight')\n",
    "#style.use('ggplot')"
   ]
  },
  {
   "cell_type": "code",
   "execution_count": 18,
   "metadata": {},
   "outputs": [],
   "source": [
    "x = range(len(df_diff))"
   ]
  },
  {
   "cell_type": "code",
   "execution_count": 7,
   "metadata": {},
   "outputs": [
    {
     "data": {
      "text/plain": [
       "Index(['a', 'b', 'c', 'd', 'e', 'f', 'g', 'h', 'i', 'j'], dtype='object')"
      ]
     },
     "execution_count": 7,
     "metadata": {},
     "output_type": "execute_result"
    }
   ],
   "source": [
    "df_diff.columns"
   ]
  },
  {
   "cell_type": "markdown",
   "metadata": {},
   "source": [
    "### Monthly energy consumption per party"
   ]
  },
  {
   "cell_type": "code",
   "execution_count": 19,
   "metadata": {},
   "outputs": [
    {
     "data": {
      "image/png": "[encoded data removed]",
      "text/plain": [
       "<Figure size 432x288 with 1 Axes>"
      ]
     },
     "metadata": {
      "needs_background": "light"
     },
     "output_type": "display_data"
    }
   ],
   "source": [
    "for i in range(len(df_diff.columns)):\n",
    "    plt.plot(x, df_diff.iloc[:,i])\n",
    "    \n",
    "plt.title(\"Monthly energy consumption\")\n",
    "plt.legend(df_diff.columns, loc = \"center left\", bbox_to_anchor = (1, 0.5))\n",
    "plt.xlabel(\"Months\")\n",
    "plt.ylabel(\"Energy consumption / kWh\")\n",
    "plt.show()"
   ]
  },
  {
   "cell_type": "markdown",
   "metadata": {},
   "source": [
    "### Monthly energy consumption per party (normalized)"
   ]
  },
  {
   "cell_type": "code",
   "execution_count": 9,
   "metadata": {},
   "outputs": [],
   "source": [
    "import calendar"
   ]
  },
  {
   "cell_type": "code",
   "execution_count": 10,
   "metadata": {},
   "outputs": [],
   "source": [
    "df_diff_norm = df_diff.copy()"
   ]
  },
  {
   "cell_type": "code",
   "execution_count": 11,
   "metadata": {},
   "outputs": [],
   "source": [
    "days_list = [calendar.monthrange(int(str(element)[0:4]),int(str(element)[4:6]))[1] for element in df_diff_norm.index.tolist()]\n",
    "days_df = pd.DataFrame(days_list)"
   ]
  },
  {
   "cell_type": "code",
   "execution_count": 12,
   "metadata": {},
   "outputs": [
    {
     "name": "stdout",
     "output_type": "stream",
     "text": [
      "                   a           b           c           d           e  \\\n",
      "date                                                                   \n",
      "20181001  282.580645  287.486559  125.591398  138.346774  114.798387   \n",
      "20181101  324.444444  324.444444  123.694444  167.291667  141.944444   \n",
      "20181201  336.545699  315.940860  151.102151  143.252688  135.403226   \n",
      "20190101  349.301075  330.658602  158.951613  150.120968  149.139785   \n",
      "20190201  438.869048  365.000000  162.946429  197.708333  173.809524   \n",
      "20190301  335.564516  299.260753  143.252688  166.801075  127.553763   \n",
      "\n",
      "                   f           g           h           i          j  \n",
      "date                                                                 \n",
      "20181001  157.970430  131.478495  177.594086  503.346774  72.607527  \n",
      "20181101  173.375000  147.013889  211.902778  657.000000  82.125000  \n",
      "20181201  172.688172  146.196237  210.954301  626.975806  80.456989  \n",
      "20190101  146.196237  159.932796  241.370968  631.881720  83.400538  \n",
      "20190201  191.190476  146.651786  248.764881  748.467262  89.077381  \n",
      "20190301  158.951613  132.459677  198.198925  552.405914  72.607527  \n"
     ]
    }
   ],
   "source": [
    "for index, days in enumerate(days_list):\n",
    "    df_diff_norm.iloc[index] = df_diff_norm.iloc[index] / days * 365 / 12\n",
    "print(df_diff_norm)"
   ]
  },
  {
   "cell_type": "code",
   "execution_count": 20,
   "metadata": {},
   "outputs": [
    {
     "data": {
      "image/png": "[encoded data removed]",
      "text/plain": [
       "<Figure size 432x288 with 1 Axes>"
      ]
     },
     "metadata": {
      "needs_background": "light"
     },
     "output_type": "display_data"
    }
   ],
   "source": [
    "for i in range(len(df_diff_norm.columns)):\n",
    "    plt.plot(x, df_diff_norm.iloc[:,i])\n",
    "    \n",
    "plt.title(\"Monthly energy consumption (normalized)\")\n",
    "plt.legend(df_diff_norm.columns, loc = \"center left\", bbox_to_anchor = (1, 0.5))\n",
    "plt.xlabel(\"Months\")\n",
    "plt.ylabel(\"Energy consumption (normalized) / kWh\")\n",
    "plt.show()"
   ]
  },
  {
   "cell_type": "markdown",
   "metadata": {},
   "source": [
    "### Total energy consumption per party"
   ]
  },
  {
   "cell_type": "code",
   "execution_count": 21,
   "metadata": {},
   "outputs": [
    {
     "data": {
      "image/png": "[encoded data removed]",
      "text/plain": [
       "<Figure size 432x288 with 1 Axes>"
      ]
     },
     "metadata": {
      "needs_background": "light"
     },
     "output_type": "display_data"
    }
   ],
   "source": [
    "plt.bar(df_diff.columns, df_diff.sum())\n",
    "plt.xticks(df_diff.columns)\n",
    "plt.title(\"Total energy consumption\")\n",
    "plt.xlabel(\"Party\")\n",
    "plt.ylabel(\"Energy consumption / kWh\")\n",
    "label = \"Mean consumption: \" + str(int(df_diff.sum().mean())) + \" kWh\" \n",
    "plt.hlines(df_diff.sum().mean(), df_diff.columns[0], df_diff.columns[-1], color = \"r\", linestyles = \"dashed\", \\\n",
    "           label = label\n",
    "          )\n",
    "plt.legend()\n",
    "for a,b in zip(df_diff.columns, df_diff.sum()):\n",
    "    plt.text(a, b - 140, str(round(b)), rotation = \"vertical\")\n",
    "plt.show()"
   ]
  },
  {
   "cell_type": "markdown",
   "metadata": {},
   "source": [
    "### single bar chart:"
   ]
  },
  {
   "cell_type": "code",
   "execution_count": null,
   "metadata": {},
   "outputs": [],
   "source": []
  },
  {
   "cell_type": "markdown",
   "metadata": {},
   "source": [
    "### 3D bar chart:"
   ]
  },
  {
   "cell_type": "code",
   "execution_count": null,
   "metadata": {},
   "outputs": [],
   "source": []
  },
  {
   "cell_type": "markdown",
   "metadata": {},
   "source": [
    "## Monthly energy consumption per person"
   ]
  },
  {
   "cell_type": "code",
   "execution_count": null,
   "metadata": {},
   "outputs": [],
   "source": []
  },
  {
   "cell_type": "markdown",
   "metadata": {},
   "source": [
    "## Yearly energy consumption per party and total"
   ]
  },
  {
   "cell_type": "code",
   "execution_count": null,
   "metadata": {},
   "outputs": [],
   "source": []
  },
  {
   "cell_type": "markdown",
   "metadata": {},
   "source": [
    "## Summer vs winter months"
   ]
  },
  {
   "cell_type": "code",
   "execution_count": null,
   "metadata": {},
   "outputs": [],
   "source": []
  },
  {
   "cell_type": "markdown",
   "metadata": {},
   "source": [
    "## Month with highest/lowest consumption"
   ]
  },
  {
   "cell_type": "code",
   "execution_count": null,
   "metadata": {},
   "outputs": [],
   "source": []
  },
  {
   "cell_type": "code",
   "execution_count": null,
   "metadata": {},
   "outputs": [],
   "source": []
  }
 ],
 "metadata": {
  "kernelspec": {
   "display_name": "Python 3",
   "language": "python",
   "name": "python3"
  },
  "language_info": {
   "codemirror_mode": {
    "name": "ipython",
    "version": 3
   },
   "file_extension": ".py",
   "mimetype": "text/x-python",
   "name": "python",
   "nbconvert_exporter": "python",
   "pygments_lexer": "ipython3",
   "version": "3.6.7"
  }
 },
 "nbformat": 4,
 "nbformat_minor": 2
}
