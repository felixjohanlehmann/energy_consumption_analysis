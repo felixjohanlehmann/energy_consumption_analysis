{
 "cells": [
  {
   "cell_type": "markdown",
   "metadata": {},
   "source": [
    "# Energy consumption"
   ]
  },
  {
   "cell_type": "markdown",
   "metadata": {},
   "source": [
    "## Import data from .xlsx spreadsheet"
   ]
  },
  {
   "cell_type": "code",
   "execution_count": 1,
   "metadata": {},
   "outputs": [],
   "source": [
    "# https://www.datacamp.com/community/tutorials/python-excel-tutorial\n",
    "\n",
    "import pandas as pd\n",
    "\n",
    "file = 'energy_consumption.xlsx'\n",
    "\n",
    "xl = pd.ExcelFile(file)\n",
    "\n",
    "df = xl.parse('Tabelle1')\n",
    "\n",
    "#Alternative way to load a sheet into a dataframe\n",
    "#df = pd.read_excel(xl, 'Tabelle1')"
   ]
  },
  {
   "cell_type": "markdown",
   "metadata": {},
   "source": [
    "## Data inspection"
   ]
  },
  {
   "cell_type": "code",
   "execution_count": 2,
   "metadata": {},
   "outputs": [
    {
     "name": "stdout",
     "output_type": "stream",
     "text": [
      "              a      b      c      d      e      f      g      h      i     j\n",
      "date                                                                         \n",
      "20180901  44107  41201  14946  24385  15849  17370  16918  24301  40200  8506\n",
      "20181001  44395  41494  15074  24526  15966  17531  17052  24482  40713  8580\n",
      "20181101  44715  41814  15196  24691  16106  17702  17197  24691  41361  8661\n",
      "20181201  45058  42136  15350  24837  16244  17878  17346  24906  42000  8743\n",
      "20190101  45414  42473  15512  24990  16396  18027  17509  25152  42644  8828\n",
      "20190201  45818  42809  15662  25172  16556  18203  17644  25381  43333  8910\n"
     ]
    }
   ],
   "source": [
    "#Pandas introduction: https://www.datacamp.com/community/tutorials/pandas-tutorial-dataframe-python\n",
    "#Pandas cheat sheet: https://s3.amazonaws.com/assets.datacamp.com/blog_assets/PandasPythonForDataScience.pdf\n",
    "\n",
    "df.set_index('date', inplace=True)\n",
    "print(df)"
   ]
  },
  {
   "cell_type": "code",
   "execution_count": 25,
   "metadata": {},
   "outputs": [
    {
     "name": "stdout",
     "output_type": "stream",
     "text": [
      "              a      b      c      d      e      f      g      h      i     j\n",
      "date                                                                         \n",
      "20180901    NaN    NaN    NaN    NaN    NaN    NaN    NaN    NaN    NaN   NaN\n",
      "20181001  288.0  293.0  128.0  141.0  117.0  161.0  134.0  181.0  513.0  74.0\n",
      "20181101  320.0  320.0  122.0  165.0  140.0  171.0  145.0  209.0  648.0  81.0\n",
      "20181201  343.0  322.0  154.0  146.0  138.0  176.0  149.0  215.0  639.0  82.0\n",
      "20190101  356.0  337.0  162.0  153.0  152.0  149.0  163.0  246.0  644.0  85.0\n",
      "20190201  404.0  336.0  150.0  182.0  160.0  176.0  135.0  229.0  689.0  82.0\n"
     ]
    }
   ],
   "source": [
    "df_diff = df.diff()\n",
    "print(df_diff)"
   ]
  },
  {
   "cell_type": "code",
   "execution_count": 27,
   "metadata": {},
   "outputs": [
    {
     "data": {
      "text/html": [
       "<div>\n",
       "<style scoped>\n",
       "    .dataframe tbody tr th:only-of-type {\n",
       "        vertical-align: middle;\n",
       "    }\n",
       "\n",
       "    .dataframe tbody tr th {\n",
       "        vertical-align: top;\n",
       "    }\n",
       "\n",
       "    .dataframe thead th {\n",
       "        text-align: right;\n",
       "    }\n",
       "</style>\n",
       "<table border=\"1\" class=\"dataframe\">\n",
       "  <thead>\n",
       "    <tr style=\"text-align: right;\">\n",
       "      <th></th>\n",
       "      <th>a</th>\n",
       "      <th>b</th>\n",
       "      <th>c</th>\n",
       "      <th>d</th>\n",
       "      <th>e</th>\n",
       "      <th>f</th>\n",
       "      <th>g</th>\n",
       "      <th>h</th>\n",
       "      <th>i</th>\n",
       "      <th>j</th>\n",
       "    </tr>\n",
       "  </thead>\n",
       "  <tbody>\n",
       "    <tr>\n",
       "      <th>count</th>\n",
       "      <td>5.000000</td>\n",
       "      <td>5.000000</td>\n",
       "      <td>5.000000</td>\n",
       "      <td>5.000000</td>\n",
       "      <td>5.000000</td>\n",
       "      <td>5.000000</td>\n",
       "      <td>5.000000</td>\n",
       "      <td>5.000000</td>\n",
       "      <td>5.000000</td>\n",
       "      <td>5.000000</td>\n",
       "    </tr>\n",
       "    <tr>\n",
       "      <th>mean</th>\n",
       "      <td>342.200000</td>\n",
       "      <td>321.600000</td>\n",
       "      <td>143.200000</td>\n",
       "      <td>157.400000</td>\n",
       "      <td>141.400000</td>\n",
       "      <td>166.600000</td>\n",
       "      <td>145.200000</td>\n",
       "      <td>216.000000</td>\n",
       "      <td>626.600000</td>\n",
       "      <td>80.800000</td>\n",
       "    </tr>\n",
       "    <tr>\n",
       "      <th>std</th>\n",
       "      <td>43.130036</td>\n",
       "      <td>17.784825</td>\n",
       "      <td>17.297399</td>\n",
       "      <td>16.440803</td>\n",
       "      <td>16.334014</td>\n",
       "      <td>11.588788</td>\n",
       "      <td>11.840608</td>\n",
       "      <td>24.207437</td>\n",
       "      <td>66.545473</td>\n",
       "      <td>4.086563</td>\n",
       "    </tr>\n",
       "    <tr>\n",
       "      <th>min</th>\n",
       "      <td>288.000000</td>\n",
       "      <td>293.000000</td>\n",
       "      <td>122.000000</td>\n",
       "      <td>141.000000</td>\n",
       "      <td>117.000000</td>\n",
       "      <td>149.000000</td>\n",
       "      <td>134.000000</td>\n",
       "      <td>181.000000</td>\n",
       "      <td>513.000000</td>\n",
       "      <td>74.000000</td>\n",
       "    </tr>\n",
       "    <tr>\n",
       "      <th>25%</th>\n",
       "      <td>320.000000</td>\n",
       "      <td>320.000000</td>\n",
       "      <td>128.000000</td>\n",
       "      <td>146.000000</td>\n",
       "      <td>138.000000</td>\n",
       "      <td>161.000000</td>\n",
       "      <td>135.000000</td>\n",
       "      <td>209.000000</td>\n",
       "      <td>639.000000</td>\n",
       "      <td>81.000000</td>\n",
       "    </tr>\n",
       "    <tr>\n",
       "      <th>50%</th>\n",
       "      <td>343.000000</td>\n",
       "      <td>322.000000</td>\n",
       "      <td>150.000000</td>\n",
       "      <td>153.000000</td>\n",
       "      <td>140.000000</td>\n",
       "      <td>171.000000</td>\n",
       "      <td>145.000000</td>\n",
       "      <td>215.000000</td>\n",
       "      <td>644.000000</td>\n",
       "      <td>82.000000</td>\n",
       "    </tr>\n",
       "    <tr>\n",
       "      <th>75%</th>\n",
       "      <td>356.000000</td>\n",
       "      <td>336.000000</td>\n",
       "      <td>154.000000</td>\n",
       "      <td>165.000000</td>\n",
       "      <td>152.000000</td>\n",
       "      <td>176.000000</td>\n",
       "      <td>149.000000</td>\n",
       "      <td>229.000000</td>\n",
       "      <td>648.000000</td>\n",
       "      <td>82.000000</td>\n",
       "    </tr>\n",
       "    <tr>\n",
       "      <th>max</th>\n",
       "      <td>404.000000</td>\n",
       "      <td>337.000000</td>\n",
       "      <td>162.000000</td>\n",
       "      <td>182.000000</td>\n",
       "      <td>160.000000</td>\n",
       "      <td>176.000000</td>\n",
       "      <td>163.000000</td>\n",
       "      <td>246.000000</td>\n",
       "      <td>689.000000</td>\n",
       "      <td>85.000000</td>\n",
       "    </tr>\n",
       "  </tbody>\n",
       "</table>\n",
       "</div>"
      ],
      "text/plain": [
       "                a           b           c           d           e           f  \\\n",
       "count    5.000000    5.000000    5.000000    5.000000    5.000000    5.000000   \n",
       "mean   342.200000  321.600000  143.200000  157.400000  141.400000  166.600000   \n",
       "std     43.130036   17.784825   17.297399   16.440803   16.334014   11.588788   \n",
       "min    288.000000  293.000000  122.000000  141.000000  117.000000  149.000000   \n",
       "25%    320.000000  320.000000  128.000000  146.000000  138.000000  161.000000   \n",
       "50%    343.000000  322.000000  150.000000  153.000000  140.000000  171.000000   \n",
       "75%    356.000000  336.000000  154.000000  165.000000  152.000000  176.000000   \n",
       "max    404.000000  337.000000  162.000000  182.000000  160.000000  176.000000   \n",
       "\n",
       "                g           h           i          j  \n",
       "count    5.000000    5.000000    5.000000   5.000000  \n",
       "mean   145.200000  216.000000  626.600000  80.800000  \n",
       "std     11.840608   24.207437   66.545473   4.086563  \n",
       "min    134.000000  181.000000  513.000000  74.000000  \n",
       "25%    135.000000  209.000000  639.000000  81.000000  \n",
       "50%    145.000000  215.000000  644.000000  82.000000  \n",
       "75%    149.000000  229.000000  648.000000  82.000000  \n",
       "max    163.000000  246.000000  689.000000  85.000000  "
      ]
     },
     "execution_count": 27,
     "metadata": {},
     "output_type": "execute_result"
    }
   ],
   "source": [
    "df_diff.describe()"
   ]
  },
  {
   "cell_type": "markdown",
   "metadata": {},
   "source": [
    "## Visualization"
   ]
  },
  {
   "cell_type": "code",
   "execution_count": 42,
   "metadata": {},
   "outputs": [],
   "source": [
    "import matplotlib.pyplot as plt\n",
    "from matplotlib import style\n",
    "style.use('fivethirtyeight')\n",
    "#style.use('ggplot')"
   ]
  },
  {
   "cell_type": "code",
   "execution_count": 43,
   "metadata": {},
   "outputs": [],
   "source": [
    "x = range(1,len(df_diff))"
   ]
  },
  {
   "cell_type": "code",
   "execution_count": 44,
   "metadata": {},
   "outputs": [
    {
     "data": {
      "text/plain": [
       "Index(['a', 'b', 'c', 'd', 'e', 'f', 'g', 'h', 'i', 'j'], dtype='object')"
      ]
     },
     "execution_count": 44,
     "metadata": {},
     "output_type": "execute_result"
    }
   ],
   "source": [
    "df_diff.columns"
   ]
  },
  {
   "cell_type": "markdown",
   "metadata": {},
   "source": [
    "### Monthly energy consumption per party"
   ]
  },
  {
   "cell_type": "code",
   "execution_count": 50,
   "metadata": {},
   "outputs": [
    {
     "data": {
      "image/png": "[encoded data removed]",
      "text/plain": [
       "<Figure size 432x288 with 1 Axes>"
      ]
     },
     "metadata": {},
     "output_type": "display_data"
    }
   ],
   "source": [
    "for i in range(len(df_diff.columns)):\n",
    "    plt.plot(x, df_diff.iloc[1:,i])\n",
    "    \n",
    "plt.title(\"Monthly energy consumption\")\n",
    "plt.legend(df_diff.columns, loc = \"center left\", bbox_to_anchor = (1, 0.5))\n",
    "plt.xlabel(\"Months\")\n",
    "plt.ylabel(\"Energy consumption / kWh\")\n",
    "plt.show()"
   ]
  },
  {
   "cell_type": "markdown",
   "metadata": {},
   "source": [
    "### Total energy consumption per party"
   ]
  },
  {
   "cell_type": "code",
   "execution_count": 107,
   "metadata": {},
   "outputs": [
    {
     "data": {
      "text/plain": [
       "1170"
      ]
     },
     "execution_count": 107,
     "metadata": {},
     "output_type": "execute_result"
    }
   ],
   "source": [
    "int(df_diff.sum().mean())"
   ]
  },
  {
   "cell_type": "code",
   "execution_count": 109,
   "metadata": {},
   "outputs": [
    {
     "data": {
      "image/png": "[encoded data removed]",
      "text/plain": [
       "<Figure size 432x288 with 1 Axes>"
      ]
     },
     "metadata": {},
     "output_type": "display_data"
    }
   ],
   "source": [
    "plt.bar(df_diff.columns, df_diff.sum())\n",
    "plt.xticks(df_diff.columns)\n",
    "plt.title(\"Total energy consumption\")\n",
    "plt.xlabel(\"Party\")\n",
    "plt.ylabel(\"Energy consumption / kWh\")\n",
    "label = \"Mean consumption: \" + str(int(df_diff.sum().mean())) + \" kWh\" \n",
    "plt.hlines(df_diff.sum().mean(), df_diff.columns[0], df_diff.columns[-1], color = \"r\", linestyles = \"dashed\", \\\n",
    "           label = label\n",
    "          )\n",
    "plt.legend()\n",
    "for a,b in zip(df_diff.columns, df_diff.sum()):\n",
    "    plt.text(a, b - 140, str(round(b)), rotation = \"vertical\")\n",
    "plt.show()"
   ]
  },
  {
   "cell_type": "markdown",
   "metadata": {},
   "source": [
    "### single bar chart:"
   ]
  },
  {
   "cell_type": "code",
   "execution_count": null,
   "metadata": {},
   "outputs": [],
   "source": []
  },
  {
   "cell_type": "markdown",
   "metadata": {},
   "source": [
    "### 3D bar chart:"
   ]
  },
  {
   "cell_type": "code",
   "execution_count": null,
   "metadata": {},
   "outputs": [],
   "source": []
  },
  {
   "cell_type": "markdown",
   "metadata": {},
   "source": [
    "## Monthly energy consumption per person"
   ]
  },
  {
   "cell_type": "code",
   "execution_count": null,
   "metadata": {},
   "outputs": [],
   "source": []
  },
  {
   "cell_type": "markdown",
   "metadata": {},
   "source": [
    "## Yearly energy consumption per party and total"
   ]
  },
  {
   "cell_type": "code",
   "execution_count": null,
   "metadata": {},
   "outputs": [],
   "source": []
  },
  {
   "cell_type": "markdown",
   "metadata": {},
   "source": [
    "## Summer vs winter months"
   ]
  },
  {
   "cell_type": "code",
   "execution_count": null,
   "metadata": {},
   "outputs": [],
   "source": []
  },
  {
   "cell_type": "markdown",
   "metadata": {},
   "source": [
    "## Month with highest/lowest consumption"
   ]
  },
  {
   "cell_type": "code",
   "execution_count": null,
   "metadata": {},
   "outputs": [],
   "source": []
  },
  {
   "cell_type": "code",
   "execution_count": null,
   "metadata": {},
   "outputs": [],
   "source": []
  }
 ],
 "metadata": {
  "kernelspec": {
   "display_name": "Python 3",
   "language": "python",
   "name": "python3"
  },
  "language_info": {
   "codemirror_mode": {
    "name": "ipython",
    "version": 3
   },
   "file_extension": ".py",
   "mimetype": "text/x-python",
   "name": "python",
   "nbconvert_exporter": "python",
   "pygments_lexer": "ipython3",
   "version": "3.6.7"
  }
 },
 "nbformat": 4,
 "nbformat_minor": 2
}
